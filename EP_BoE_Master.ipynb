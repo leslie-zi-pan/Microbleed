{
  "nbformat": 4,
  "nbformat_minor": 0,
  "metadata": {
    "colab": {
      "provenance": [],
      "include_colab_link": true
    },
    "kernelspec": {
      "name": "python3",
      "display_name": "Python 3"
    },
    "language_info": {
      "name": "python"
    }
  },
  "cells": [
    {
      "cell_type": "markdown",
      "metadata": {
        "id": "view-in-github",
        "colab_type": "text"
      },
      "source": [
        "<a href=\"https://colab.research.google.com/github/leslie-zi-pan/Microbleed/blob/main/EP_BoE_Master.ipynb\" target=\"_parent\"><img src=\"https://colab.research.google.com/assets/colab-badge.svg\" alt=\"Open In Colab\"/></a>"
      ]
    },
    {
      "cell_type": "markdown",
      "source": [
        "# Setup, Constants, and Imports"
      ],
      "metadata": {
        "id": "7QYQforg2GMK"
      }
    },
    {
      "cell_type": "code",
      "source": [
        "import os\n",
        "import sys"
      ],
      "metadata": {
        "id": "Ff27w5yY2Mw9"
      },
      "execution_count": 1,
      "outputs": []
    },
    {
      "cell_type": "markdown",
      "source": [
        "## Constants"
      ],
      "metadata": {
        "id": "J93ZkMyU2PVg"
      }
    },
    {
      "cell_type": "code",
      "source": [
        "REPO_URL = \"https://github.com/EErlando/Quarterly-Bytes.git\"\n",
        "REPO_NAME = \"src\""
      ],
      "metadata": {
        "id": "CAcsNNtB2Q4D"
      },
      "execution_count": 2,
      "outputs": []
    },
    {
      "cell_type": "markdown",
      "source": [
        "## Clone and Pull Latest from Repository"
      ],
      "metadata": {
        "id": "PyBfOsJs3oV-"
      }
    },
    {
      "cell_type": "code",
      "source": [
        "if os.path.exists(REPO_NAME):\n",
        "    print(f\"Directory '{REPO_NAME}' already exists. Pulling latest changes...\")\n",
        "    %cd {REPO_NAME}\n",
        "    !git pull --quiet\n",
        "    %cd ..\n",
        "else:\n",
        "    print(f\"Cloning repository into '{REPO_NAME}'...\")\n",
        "    !git clone --quiet {REPO_URL} {REPO_NAME}\n",
        "    print(\"Clone complete.\")\n",
        "\n",
        "sys.path.append('/content/src/')"
      ],
      "metadata": {
        "colab": {
          "base_uri": "https://localhost:8080/"
        },
        "id": "ceXEkv3f271t",
        "outputId": "b7db96c6-fd81-4eb0-f3fd-67874d539c8f"
      },
      "execution_count": 3,
      "outputs": [
        {
          "output_type": "stream",
          "name": "stdout",
          "text": [
            "Directory 'src' already exists. Pulling latest changes...\n",
            "/content/src\n",
            "/content\n"
          ]
        }
      ]
    }
  ]
}